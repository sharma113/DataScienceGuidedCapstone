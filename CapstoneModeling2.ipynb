{
 "cells": [
  {
   "cell_type": "code",
   "execution_count": 1,
   "id": "caf351a4",
   "metadata": {},
   "outputs": [],
   "source": [
    "# Let's import the pandas, numpy libraries as pd, and np respectively. \n",
    "import pandas as pd\n",
    "import numpy  as np\n",
    "\n",
    "# Load the pyplot collection of functions from matplotlib, as plt \n",
    "import matplotlib.pyplot as plt\n",
    "#Import Seaborn for data visualization\n",
    "import seaborn as sns\n",
    "import scipy.stats as stats\n",
    "\n",
    "#Load ML libraries\n",
    "from sklearn.model_selection import train_test_split\n",
    "from sklearn.preprocessing import StandardScaler\n",
    "from sklearn.metrics import confusion_matrix,ConfusionMatrixDisplay\n",
    "from sklearn.metrics import classification_report\n",
    "from imblearn.over_sampling import SMOTE\n",
    "from sklearn.linear_model import LogisticRegression\n",
    "from sklearn.ensemble import RandomForestClassifier\n"
   ]
  },
  {
   "cell_type": "code",
   "execution_count": 2,
   "id": "8962d032",
   "metadata": {},
   "outputs": [],
   "source": [
    "datafile='df_modeling.csv'\n",
    "df = pd.read_csv(datafile)"
   ]
  },
  {
   "cell_type": "code",
   "execution_count": 4,
   "id": "ea0f1d27",
   "metadata": {},
   "outputs": [
    {
     "name": "stdout",
     "output_type": "stream",
     "text": [
      "0\n"
     ]
    }
   ],
   "source": [
    "#This is to check if the DiabetesMeds feature contains if they are on a diabetic medication.\n",
    "count = 0\n",
    "\n",
    "# list of columns to check for 1 values\n",
    "cols_to_check = ['metformin', 'nateglinide', 'chlorpropamide', 'glimepiride', 'acetohexamide',\n",
    "                 'glipizide', 'glyburide', 'tolbutamide', 'pioglitazone', 'rosiglitazone',\n",
    "                 'acarbose', 'miglitol', 'troglitazone', 'tolazamide', 'examide', 'insulin',\n",
    "                 'citoglipton', 'glyburide-metformin', 'glipizide-metformin',\n",
    "                 'glimepiride-pioglitazone', 'metformin-rosiglitazone', 'metformin-pioglitazone','repaglinide']\n",
    "\n",
    "# loop through rows and check for 1 values in specified columns\n",
    "for i in range(len(df)):\n",
    "    if (df[cols_to_check].iloc[i] == 1).any() and df['diabetesMed'][i] == 0:\n",
    "        count += 1\n",
    "\n",
    "print(count)"
   ]
  },
  {
   "cell_type": "code",
   "execution_count": 3,
   "id": "98af7ca4",
   "metadata": {},
   "outputs": [],
   "source": [
    "#Drop Drug columns as they do not add any predictive value.  This information is contained in the 'DiabetesMeds' Feature.\n",
    "df = df.drop(columns=['metformin', 'nateglinide', 'chlorpropamide', 'glimepiride', 'acetohexamide',\n",
    "                 'glipizide', 'glyburide', 'tolbutamide', 'pioglitazone', 'rosiglitazone',\n",
    "                 'acarbose', 'miglitol', 'troglitazone', 'tolazamide', 'examide', 'insulin',\n",
    "                 'citoglipton', 'glyburide-metformin', 'glipizide-metformin',\n",
    "                 'glimepiride-pioglitazone', 'metformin-rosiglitazone', 'metformin-pioglitazone','repaglinide']\n",
    ")\n"
   ]
  },
  {
   "cell_type": "code",
   "execution_count": 4,
   "id": "8fabc91c",
   "metadata": {},
   "outputs": [],
   "source": [
    "df = df.reset_index(drop=True)\n"
   ]
  },
  {
   "cell_type": "code",
   "execution_count": 5,
   "id": "a8fcbdcb",
   "metadata": {},
   "outputs": [],
   "source": [
    "#Define the y variable as the discharge_disposition_id. 1=Expired,0=Non-expired\n",
    "y = df['discharge_disposition_id']\n",
    "X = df.drop('discharge_disposition_id', axis=1)"
   ]
  },
  {
   "cell_type": "code",
   "execution_count": 8,
   "id": "872918a1",
   "metadata": {},
   "outputs": [],
   "source": [
    "sm = SMOTE(random_state = 42)\n",
    "X_resampled, y_train_resampled = sm.fit_resample(X, y)"
   ]
  },
  {
   "cell_type": "code",
   "execution_count": 30,
   "id": "4d6f3715",
   "metadata": {},
   "outputs": [
    {
     "name": "stdout",
     "output_type": "stream",
     "text": [
      "(198690, 2266) (198690,)\n"
     ]
    }
   ],
   "source": [
    "print(X_resampled.shape, y_train_resampled.shape)"
   ]
  },
  {
   "cell_type": "code",
   "execution_count": 9,
   "id": "14ca630a",
   "metadata": {},
   "outputs": [],
   "source": [
    "#Create a 70/30 train and test split for Logistic Regression.\n",
    "X_train, X_test, y_train, y_test = train_test_split(X_resampled,y_train_resampled, test_size=0.3, random_state=42, shuffle=True)"
   ]
  },
  {
   "cell_type": "code",
   "execution_count": 10,
   "id": "c0ee4fe3",
   "metadata": {},
   "outputs": [],
   "source": [
    "# Making a Scaler object\n",
    "scaler = StandardScaler()"
   ]
  },
  {
   "cell_type": "code",
   "execution_count": 11,
   "id": "4160185e",
   "metadata": {},
   "outputs": [],
   "source": [
    "X_train_scaled = scaler.fit_transform(X_train)\n",
    "X_test_scaled = scaler.transform(X_test)"
   ]
  },
  {
   "cell_type": "code",
   "execution_count": 12,
   "id": "f29e968e",
   "metadata": {},
   "outputs": [
    {
     "name": "stderr",
     "output_type": "stream",
     "text": [
      "/Users/sachinsharma/opt/anaconda3/lib/python3.9/site-packages/sklearn/linear_model/_logistic.py:763: ConvergenceWarning: lbfgs failed to converge (status=1):\n",
      "STOP: TOTAL NO. of ITERATIONS REACHED LIMIT.\n",
      "\n",
      "Increase the number of iterations (max_iter) or scale the data as shown in:\n",
      "    https://scikit-learn.org/stable/modules/preprocessing.html\n",
      "Please also refer to the documentation for alternative solver options:\n",
      "    https://scikit-learn.org/stable/modules/linear_model.html#logistic-regression\n",
      "  n_iter_i = _check_optimize_result(\n"
     ]
    },
    {
     "name": "stdout",
     "output_type": "stream",
     "text": [
      "Train Scores: [0.49859436451615224]\n",
      "Train Scores: [0.49859436451615224, 0.49859436451615224]\n",
      "Train Scores: [0.49859436451615224, 0.49859436451615224, 0.49859436451615224]\n"
     ]
    }
   ],
   "source": [
    "#Using a range of max iteration values of 100, 500 ,100, apply the Logistic Regression classifier to classify the the data.\n",
    "\n",
    "#test_scores = []\n",
    "train_scores = []\n",
    "max_iter =  [100, 500, 1000]\n",
    "for i in max_iter:\n",
    "\n",
    "    logreg= LogisticRegression(random_state = 42, max_iter=i)\n",
    "    logreg.fit(X_train_scaled, y_train)\n",
    "    \n",
    "    train_scores.append(logreg.score(X_train,y_train))\n",
    "    #test_scores.append(logreg.score(X_test_scaled, y_test))\n",
    "\n",
    "#Print the train and test scores for each iteration.\n",
    "    #print('Test Scores:',test_scores)\n",
    "    print('Train Scores:',train_scores)\n"
   ]
  },
  {
   "cell_type": "code",
   "execution_count": 20,
   "id": "35d245d3",
   "metadata": {},
   "outputs": [
    {
     "name": "stdout",
     "output_type": "stream",
     "text": [
      "Max Train score Value: 0.49859436451615224\n"
     ]
    }
   ],
   "source": [
    "#Identify the number of max_iter that resulted in the max score in the training dataset.\n",
    "print('Max Train score Value:',max(train_scores))"
   ]
  },
  {
   "cell_type": "code",
   "execution_count": 21,
   "id": "a78ad3ff",
   "metadata": {},
   "outputs": [
    {
     "name": "stdout",
     "output_type": "stream",
     "text": [
      "Max iterations for train = 100\n"
     ]
    }
   ],
   "source": [
    "#Identify the number of neighbors that resulted in the max score in the testing dataset.\n",
    "\n",
    "ax_train = max(train_scores)\n",
    "indext = train_scores.index(max_train)\n",
    "print('Max iterations for train =',max_iter[indext])"
   ]
  },
  {
   "cell_type": "code",
   "execution_count": 14,
   "id": "7539b74f",
   "metadata": {},
   "outputs": [
    {
     "data": {
      "text/plain": [
       "LogisticRegression(max_iter=1000, random_state=42)"
      ]
     },
     "execution_count": 14,
     "metadata": {},
     "output_type": "execute_result"
    }
   ],
   "source": [
    "logreg= LogisticRegression(random_state = 42, max_iter=100)\n",
    "logreg.fit(X_train_scaled, y_train)"
   ]
  },
  {
   "cell_type": "code",
   "execution_count": 16,
   "id": "19239fa8",
   "metadata": {},
   "outputs": [],
   "source": [
    "# Make predictions on the test data\n",
    "y_pred = logreg.predict(X_test_scaled)"
   ]
  },
  {
   "cell_type": "code",
   "execution_count": 17,
   "id": "c8de6f74",
   "metadata": {},
   "outputs": [
    {
     "name": "stdout",
     "output_type": "stream",
     "text": [
      "[[29453   154]\n",
      " [  679 29321]]\n"
     ]
    }
   ],
   "source": [
    "# Compute the confusion matrix\n",
    "cm = confusion_matrix(y_test, y_pred)\n",
    "\n",
    "# Print the confusion matrix\n",
    "print(cm)"
   ]
  },
  {
   "cell_type": "markdown",
   "id": "3859dc88",
   "metadata": {},
   "source": [
    "Model shows that it does well with high PPV for both classes."
   ]
  },
  {
   "cell_type": "code",
   "execution_count": 18,
   "id": "8dc1f138",
   "metadata": {},
   "outputs": [
    {
     "name": "stdout",
     "output_type": "stream",
     "text": [
      "              precision    recall  f1-score   support\n",
      "\n",
      "           0       0.98      0.99      0.99     29607\n",
      "           1       0.99      0.98      0.99     30000\n",
      "\n",
      "    accuracy                           0.99     59607\n",
      "   macro avg       0.99      0.99      0.99     59607\n",
      "weighted avg       0.99      0.99      0.99     59607\n",
      "\n"
     ]
    }
   ],
   "source": [
    "print(classification_report(y_test, y_pred))"
   ]
  },
  {
   "cell_type": "code",
   "execution_count": 19,
   "id": "3f474603",
   "metadata": {},
   "outputs": [
    {
     "data": {
      "text/plain": [
       "<AxesSubplot:>"
      ]
     },
     "execution_count": 19,
     "metadata": {},
     "output_type": "execute_result"
    },
    {
     "data": {
      "image/png": "[encoded data removed]",
      "text/plain": [
       "<Figure size 432x288 with 2 Axes>"
      ]
     },
     "metadata": {
      "needs_background": "light"
     },
     "output_type": "display_data"
    }
   ],
   "source": [
    "sns.heatmap(confusion_matrix(y_test, y_pred), annot = True, fmt=\".2F\")"
   ]
  },
  {
   "cell_type": "markdown",
   "id": "c7f44124",
   "metadata": {},
   "source": [
    "Model has high positive predictive value for identifying both expired and non-expired patients."
   ]
  },
  {
   "cell_type": "code",
   "execution_count": 23,
   "id": "0bdb7176",
   "metadata": {},
   "outputs": [
    {
     "name": "stdout",
     "output_type": "stream",
     "text": [
      "Train Scores: [1.0]\n",
      "Train Scores: [1.0, 1.0]\n",
      "Train Scores: [1.0, 1.0, 1.0]\n"
     ]
    }
   ],
   "source": [
    "#Using Random Forest to determine hyperparameter tuning for n_estimators\n",
    "train_scores = []\n",
    "n_estimators =  [100, 500, 1000]\n",
    "for i in n_estimators:\n",
    "\n",
    "    forest = RandomForestClassifier(n_estimators = i, random_state=42)\n",
    "    forest.fit(X_train, y_train)\n",
    "    \n",
    "    train_scores.append(forest.score(X_train,y_train))\n",
    "    print('Train Scores:',train_scores)"
   ]
  },
  {
   "cell_type": "markdown",
   "id": "503d683b",
   "metadata": {},
   "source": [
    "In terms of performance and for estimating high accuracy n_estimators = 100 is the optimal solution. "
   ]
  },
  {
   "cell_type": "code",
   "execution_count": 24,
   "id": "5171ecca",
   "metadata": {},
   "outputs": [
    {
     "data": {
      "text/plain": [
       "RandomForestClassifier(random_state=42)"
      ]
     },
     "execution_count": 24,
     "metadata": {},
     "output_type": "execute_result"
    }
   ],
   "source": [
    "forest = RandomForestClassifier(n_estimators = 100, random_state=42)\n",
    "forest.fit(X_train, y_train)"
   ]
  },
  {
   "cell_type": "code",
   "execution_count": 25,
   "id": "f6bebd4b",
   "metadata": {},
   "outputs": [
    {
     "name": "stdout",
     "output_type": "stream",
     "text": [
      "Accuracy: 0.9801365611421478\n"
     ]
    }
   ],
   "source": [
    "# Make predictions on the test data and evaluate the model\n",
    "predictions = forest.predict(X_test)\n",
    "accuracy = forest.score(X_test, y_test)\n",
    "print(\"Accuracy:\", accuracy)"
   ]
  },
  {
   "cell_type": "code",
   "execution_count": 26,
   "id": "8d10fe7a",
   "metadata": {},
   "outputs": [
    {
     "name": "stdout",
     "output_type": "stream",
     "text": [
      "[[29009   598]\n",
      " [  586 29414]]\n"
     ]
    }
   ],
   "source": [
    "# Compute the confusion matrix\n",
    "cm = confusion_matrix(y_test, predictions)\n",
    "\n",
    "# Print the confusion matrix\n",
    "print(cm)"
   ]
  },
  {
   "cell_type": "markdown",
   "id": "3b6d35f9",
   "metadata": {},
   "source": [
    "Good specificity for both predictions. "
   ]
  },
  {
   "cell_type": "code",
   "execution_count": 27,
   "id": "86f0c72f",
   "metadata": {},
   "outputs": [
    {
     "data": {
      "text/plain": [
       "<AxesSubplot:>"
      ]
     },
     "execution_count": 27,
     "metadata": {},
     "output_type": "execute_result"
    },
    {
     "data": {
      "image/png": "[encoded data removed]",
      "text/plain": [
       "<Figure size 432x288 with 2 Axes>"
      ]
     },
     "metadata": {
      "needs_background": "light"
     },
     "output_type": "display_data"
    }
   ],
   "source": [
    "sns.heatmap(confusion_matrix(y_test, predictions), annot = True, fmt=\".2F\")"
   ]
  },
  {
   "cell_type": "code",
   "execution_count": 28,
   "id": "fa492431",
   "metadata": {},
   "outputs": [
    {
     "name": "stdout",
     "output_type": "stream",
     "text": [
      "              precision    recall  f1-score   support\n",
      "\n",
      "           0       0.98      0.98      0.98     29607\n",
      "           1       0.98      0.98      0.98     30000\n",
      "\n",
      "    accuracy                           0.98     59607\n",
      "   macro avg       0.98      0.98      0.98     59607\n",
      "weighted avg       0.98      0.98      0.98     59607\n",
      "\n"
     ]
    }
   ],
   "source": [
    "print(classification_report(y_test, predictions))"
   ]
  },
  {
   "cell_type": "markdown",
   "id": "7284abc7",
   "metadata": {},
   "source": [
    "Model does  perform well at identifying which patients are likely to die.  Good precison and recall scores."
   ]
  },
  {
   "cell_type": "code",
   "execution_count": 29,
   "id": "6730112e",
   "metadata": {
    "scrolled": true
   },
   "outputs": [
    {
     "name": "stdout",
     "output_type": "stream",
     "text": [
      "30\n"
     ]
    },
    {
     "data": {
      "image/png": "[encoded data removed]",
      "text/plain": [
       "<Figure size 720x720 with 1 Axes>"
      ]
     },
     "metadata": {
      "needs_background": "light"
     },
     "output_type": "display_data"
    }
   ],
   "source": [
    "feature_importance = forest.feature_importances_\n",
    "# make importances relative to max importance\n",
    "feature_importance = 100.0 * (feature_importance / feature_importance.max())[:30]\n",
    "sorted_idx = np.argsort(feature_importance)[:30]\n",
    "\n",
    "pos = np.arange(sorted_idx.shape[0]) + .5\n",
    "print(pos.size)\n",
    "sorted_idx.size\n",
    "plt.figure(figsize=(10,10))\n",
    "plt.barh(pos, feature_importance[sorted_idx], align='center')\n",
    "plt.yticks(pos, X.columns[sorted_idx])\n",
    "plt.xlabel('Relative Importance')\n",
    "plt.title('Variable Importance')\n",
    "plt.show()"
   ]
  },
  {
   "cell_type": "markdown",
   "id": "95f6bfe7",
   "metadata": {},
   "source": [
    "What is impressive is that the model was able to identify the codes that do have a high mortality rate.  \n",
    "ICD 162-> Lung Ca\n",
    "153 -> Colon Ca\n",
    "157 -> Pancreatic Ca\n",
    "174 -> Breast Ca\n",
    "154 -> Rectal Ca\n",
    "155 -> Liver Ca\n",
    "112 -> Candida Infection. (common comorbity associated with cancer)\n",
    "151 -> Stomach Ca\n",
    "150 -> Esophageal Ca\n",
    "156 -> Gallbladder Ca\n",
    "163 -> Cancer of the pleura. (mesothelioma)\n",
    "161 -> Laryngeal Ca\n",
    "117 -> Fungal Infection.  (common comorbity associated with cancer)\n",
    "164 -> Thymus Cancer\n",
    "158 -> Retroperitoneum Ca\n",
    "146 -> Oropharynx Ca\n",
    "171 -> Soft Tissue Ca"
   ]
  },
  {
   "cell_type": "code",
   "execution_count": 159,
   "id": "0fa6f8ac",
   "metadata": {},
   "outputs": [],
   "source": [
    "#make an array representing 1 patient with 2,266 features.\n",
    "my_patient = np.zeros((1, 2266))"
   ]
  },
  {
   "cell_type": "code",
   "execution_count": 32,
   "id": "6040029a",
   "metadata": {},
   "outputs": [],
   "source": [
    "columns_list = list(X_resampled.columns)"
   ]
  },
  {
   "cell_type": "code",
   "execution_count": 123,
   "id": "1c4d0733",
   "metadata": {},
   "outputs": [
    {
     "name": "stdout",
     "output_type": "stream",
     "text": [
      ", ['age', 'admission_type_id', 'admission_source_id', 'time_in_hospital', 'num_lab_procedures', 'num_procedures', 'num_medications', 'number_outpatient']\n",
      ", ['number_emergency', 'number_inpatient', 'number_diagnoses', 'change', 'diabetesMed', 'ICD1_112', 'ICD1_117', 'ICD1_146']\n",
      ", ['ICD1_150', 'ICD1_151', 'ICD1_153', 'ICD1_154', 'ICD1_155', 'ICD1_156', 'ICD1_157', 'ICD1_158']\n",
      ", ['ICD1_161', 'ICD1_162', 'ICD1_163', 'ICD1_164', 'ICD1_171', 'ICD1_174', 'ICD1_182', 'ICD1_183']\n"
     ]
    }
   ],
   "source": [
    "#list of features\n",
    "for i in range(0, 30, 8):\n",
    "    print(',',columns_list[i:i+8])"
   ]
  },
  {
   "cell_type": "code",
   "execution_count": 160,
   "id": "67eb011c",
   "metadata": {},
   "outputs": [],
   "source": [
    "#Manipulating values in the array to reflect different features in the new test patient. \n",
    "my_patient[0,0] = 99  # age\n",
    "my_patient[0,1] = 1   # admission_type_id\n",
    "my_patient[0,2] = 7   # admission_source_id\n",
    "my_patient[0,3] = 15   # time_in_hospital\n",
    "my_patient[0,4] = 10  # num_lab_procedures\n",
    "my_patient[0,5] = 6   # num_procedures\n",
    "my_patient[0,6] = 8  # num_medications\n",
    "my_patient[0,7] = 3   # number_outpatient\n",
    "my_patient[0,8] = 3   # number_emergency\n",
    "my_patient[0,9] = 3   # number_inpatient\n",
    "my_patient[0,10] = 10 # number_diagnoses\n",
    "my_patient[0,11] = 0  # change\n",
    "my_patient[0,12] = 0  # diabetesMed\n",
    "my_patient[0,29] = 1  # Pancreatic Cancer\n",
    "my_patient[0,25] = 1  # Lung Cancer\n",
    "my_patient[0,22] = 1  # Colon Cancer\n"
   ]
  },
  {
   "cell_type": "code",
   "execution_count": 166,
   "id": "38e9e2d6",
   "metadata": {},
   "outputs": [],
   "source": [
    "#print(columns_list[22])"
   ]
  },
  {
   "cell_type": "code",
   "execution_count": 164,
   "id": "4be9c3a6",
   "metadata": {},
   "outputs": [
    {
     "name": "stdout",
     "output_type": "stream",
     "text": [
      "[99  1  7 15 10  6  8  3  3  3 10  0  0  0  0  0  0  0  0  0  0  0  1  0\n",
      "  0  1  0  0  0  1]\n"
     ]
    }
   ],
   "source": [
    "#Print first 30 features of the patient in the array.\n",
    "my_patient_int = my_patient.astype(np.int64)\n",
    "print(my_patient_int[0,:30])"
   ]
  },
  {
   "cell_type": "code",
   "execution_count": 165,
   "id": "015d81e9",
   "metadata": {},
   "outputs": [
    {
     "name": "stdout",
     "output_type": "stream",
     "text": [
      "The Random Forrest probability of death for this patient is 22.00%\n",
      "The Random Forrest probability of survival for this patient is 78.00%\n",
      "The Logistic Regression probability of death for this patient is 100.00%\n",
      "The Logistic Regression probability of survival for this patient is 0.00%\n"
     ]
    }
   ],
   "source": [
    "patient_predictionRF = forest.predict_proba(my_patient)\n",
    "patient_predictionLR = logreg.predict_proba(arr_scaled)\n",
    "print(\"The Random Forrest probability of death for this patient is {:.2%}\".format(new_patient[0][1]))\n",
    "print(\"The Random Forrest probability of survival for this patient is {:.2%}\".format(new_patient[0][0]))\n",
    "\n",
    "print(\"The Logistic Regression probability of death for this patient is {:.2%}\".format(new_patient1[0][1]))\n",
    "print(\"The Logistic Regression probability of survival for this patient is {:.2%}\".format(new_patient1[0][0]))\n"
   ]
  },
  {
   "cell_type": "markdown",
   "id": "3e53b90b",
   "metadata": {},
   "source": [
    "This fictious patient is 99 years old, admitted from the ER, has been in the hospital for 15 days.  Has had 10 lab draws done, has had 6 procedures done, is on 8 medications and has had 3 previous hospitalizations, 3 previous ER visits, 3 outpatient vists.  Patient has a past medical history of 10 different diseases which include Lung Cancer, Pancreatic Cancer, AND Colon Cancer.  This very sick patient has 0% survival from the logistic regression model and a 78% survival from the Random Forrest.  I would have expected that the chance of survival would be low for both models.  "
   ]
  }
 ],
 "metadata": {
  "kernelspec": {
   "display_name": "Python 3 (ipykernel)",
   "language": "python",
   "name": "python3"
  },
  "language_info": {
   "codemirror_mode": {
    "name": "ipython",
    "version": 3
   },
   "file_extension": ".py",
   "mimetype": "text/x-python",
   "name": "python",
   "nbconvert_exporter": "python",
   "pygments_lexer": "ipython3",
   "version": "3.9.7"
  }
 },
 "nbformat": 4,
 "nbformat_minor": 5
}
