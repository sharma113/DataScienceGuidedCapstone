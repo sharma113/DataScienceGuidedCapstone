{
 "cells": [
  {
   "cell_type": "code",
   "execution_count": 1,
   "id": "98c43230",
   "metadata": {},
   "outputs": [],
   "source": [
    "# Let's import the pandas, numpy libraries as pd, and np respectively. \n",
    "import pandas as pd\n",
    "import numpy  as np\n",
    "\n",
    "# Load the pyplot collection of functions from matplotlib, as plt \n",
    "import matplotlib.pyplot as plt\n",
    "#Import Seaborn for data visualization\n",
    "import seaborn as sns\n",
    "import scipy.stats as stats\n",
    "from sklearn.model_selection import train_test_split\n",
    "from sklearn.preprocessing import StandardScaler\n",
    "from sklearn.neighbors import KNeighborsClassifier\n"
   ]
  },
  {
   "cell_type": "code",
   "execution_count": 2,
   "id": "9c87f1aa",
   "metadata": {},
   "outputs": [],
   "source": [
    "datafile_expired='expired.csv'\n",
    "df_expired = pd.read_csv(datafile_expired)"
   ]
  },
  {
   "cell_type": "code",
   "execution_count": 3,
   "id": "def4f84f",
   "metadata": {},
   "outputs": [],
   "source": [
    "datafile_expired='nonexpired.csv'\n",
    "df_nonexpired = pd.read_csv(datafile_expired)"
   ]
  },
  {
   "cell_type": "code",
   "execution_count": 4,
   "id": "f3b1cb2c",
   "metadata": {
    "scrolled": true
   },
   "outputs": [
    {
     "data": {
      "text/plain": [
       "1210     No\n",
       "835      No\n",
       "837      No\n",
       "838      No\n",
       "839      No\n",
       "       ... \n",
       "956     Yes\n",
       "955     Yes\n",
       "954     Yes\n",
       "911     Yes\n",
       "2420    Yes\n",
       "Name: diabetesMed, Length: 2421, dtype: object"
      ]
     },
     "execution_count": 4,
     "metadata": {},
     "output_type": "execute_result"
    }
   ],
   "source": [
    "df_expired.diabetesMed.sort_values()"
   ]
  },
  {
   "cell_type": "code",
   "execution_count": 5,
   "id": "fbee3882",
   "metadata": {},
   "outputs": [
    {
     "name": "stderr",
     "output_type": "stream",
     "text": [
      "/Users/sachinsharma/opt/anaconda3/lib/python3.9/site-packages/pandas/core/indexing.py:1732: SettingWithCopyWarning: \n",
      "A value is trying to be set on a copy of a slice from a DataFrame\n",
      "\n",
      "See the caveats in the documentation: https://pandas.pydata.org/pandas-docs/stable/user_guide/indexing.html#returning-a-view-versus-a-copy\n",
      "  self._setitem_single_block(indexer, value, name)\n"
     ]
    }
   ],
   "source": [
    "# Encode to set Yes = 1 and No = 0\n",
    "for i in range(len(df_expired['diabetesMed'])):\n",
    "    if df_expired['diabetesMed'].iloc[i] == 'Yes':\n",
    "        df_expired['diabetesMed'].iloc[i] = 1\n",
    "    else:\n",
    "        df_expired['diabetesMed'].iloc[i] = 0\n",
    "        "
   ]
  },
  {
   "cell_type": "code",
   "execution_count": 6,
   "id": "c775c703",
   "metadata": {},
   "outputs": [],
   "source": [
    "# Encode to set Yes = 1 and No = 0 in the Non-Expired Group\n",
    "df_nonexpired['diabetesMed'] = np.where(df_nonexpired['diabetesMed'] == 'No', 0, df_nonexpired['diabetesMed'])\n",
    "df_nonexpired['diabetesMed'] = np.where(df_nonexpired['diabetesMed'] == 'Yes', 1, df_nonexpired['diabetesMed'])\n",
    "\n"
   ]
  },
  {
   "cell_type": "code",
   "execution_count": 7,
   "id": "c5c602a1",
   "metadata": {},
   "outputs": [
    {
     "data": {
      "text/plain": [
       "array([1, 0], dtype=object)"
      ]
     },
     "execution_count": 7,
     "metadata": {},
     "output_type": "execute_result"
    }
   ],
   "source": [
    "df_expired['diabetesMed'].unique()"
   ]
  },
  {
   "cell_type": "code",
   "execution_count": 8,
   "id": "fb844d09",
   "metadata": {},
   "outputs": [
    {
     "data": {
      "text/plain": [
       "1    76721\n",
       "0    22624\n",
       "Name: diabetesMed, dtype: int64"
      ]
     },
     "execution_count": 8,
     "metadata": {},
     "output_type": "execute_result"
    }
   ],
   "source": [
    "df_nonexpired['diabetesMed'].value_counts()"
   ]
  },
  {
   "cell_type": "code",
   "execution_count": 9,
   "id": "97928ffb",
   "metadata": {},
   "outputs": [
    {
     "data": {
      "text/plain": [
       "array(['No', 'Ch'], dtype=object)"
      ]
     },
     "execution_count": 9,
     "metadata": {},
     "output_type": "execute_result"
    }
   ],
   "source": [
    "df_expired['change'].unique()"
   ]
  },
  {
   "cell_type": "code",
   "execution_count": 10,
   "id": "0e445d11",
   "metadata": {},
   "outputs": [
    {
     "name": "stderr",
     "output_type": "stream",
     "text": [
      "/var/folders/j5/np658np12vl9nkcgdxj9xmv00000gn/T/ipykernel_3340/1802009903.py:6: SettingWithCopyWarning: \n",
      "A value is trying to be set on a copy of a slice from a DataFrame\n",
      "\n",
      "See the caveats in the documentation: https://pandas.pydata.org/pandas-docs/stable/user_guide/indexing.html#returning-a-view-versus-a-copy\n",
      "  df_expired['change'][i] = 0\n",
      "/var/folders/j5/np658np12vl9nkcgdxj9xmv00000gn/T/ipykernel_3340/1802009903.py:4: SettingWithCopyWarning: \n",
      "A value is trying to be set on a copy of a slice from a DataFrame\n",
      "\n",
      "See the caveats in the documentation: https://pandas.pydata.org/pandas-docs/stable/user_guide/indexing.html#returning-a-view-versus-a-copy\n",
      "  df_expired['change'][i] = 1\n"
     ]
    }
   ],
   "source": [
    "# Encode to Change so 'No'= 0 and 'Ch' = 1\n",
    "for i in range(len(df_expired['change'])):\n",
    "    if df_expired['change'][i] == 'Ch':\n",
    "        df_expired['change'][i] = 1\n",
    "    else:\n",
    "        df_expired['change'][i] = 0\n",
    "    "
   ]
  },
  {
   "cell_type": "code",
   "execution_count": 11,
   "id": "6b5aaafe",
   "metadata": {},
   "outputs": [
    {
     "data": {
      "text/plain": [
       "array([0, 1], dtype=object)"
      ]
     },
     "execution_count": 11,
     "metadata": {},
     "output_type": "execute_result"
    }
   ],
   "source": [
    "df_expired['change'].unique()"
   ]
  },
  {
   "cell_type": "code",
   "execution_count": 12,
   "id": "a2b87e55",
   "metadata": {},
   "outputs": [],
   "source": [
    "# Encode Change feature to 'No'= 0 and 'Ch' = 1 in the Non-Expired Group\n",
    "df_nonexpired['change'] = np.where(df_nonexpired['change'] == 'No', 0, df_nonexpired['change'])\n",
    "df_nonexpired['change'] = np.where(df_nonexpired['change'] == 'Ch', 1, df_nonexpired['change'])\n"
   ]
  },
  {
   "cell_type": "code",
   "execution_count": 13,
   "id": "96056b2d",
   "metadata": {},
   "outputs": [
    {
     "data": {
      "text/plain": [
       "0    53222\n",
       "1    46123\n",
       "Name: change, dtype: int64"
      ]
     },
     "execution_count": 13,
     "metadata": {},
     "output_type": "execute_result"
    }
   ],
   "source": [
    "df_nonexpired['change'].value_counts()"
   ]
  },
  {
   "cell_type": "code",
   "execution_count": 14,
   "id": "57324997",
   "metadata": {},
   "outputs": [],
   "source": [
    "# Change column values for features containing DM meds.  If they are on the medication then value gets changed to 1. If they are not on the med it gets changed to 0.\n",
    "meds =['metformin','repaglinide','nateglinide','chlorpropamide','glimepiride','acetohexamide','glipizide','glyburide','tolbutamide','pioglitazone','rosiglitazone','acarbose','miglitol','troglitazone','tolazamide','examide','citoglipton','insulin','glyburide-metformin','glipizide-metformin','glimepiride-pioglitazone','metformin-rosiglitazone','metformin-pioglitazone']\n",
    "for i in meds :\n",
    "    drugname = i\n",
    "    drugname= ''+drugname+''\n",
    "    df_expired[drugname] = np.where(df_expired[drugname] == 'No', 0, df_expired[drugname])\n",
    "    df_expired[drugname] = np.where(df_expired[drugname] == 'Up', 1, df_expired[drugname])           \n",
    "    df_expired[drugname] = np.where(df_expired[drugname] == 'Down', 1, df_expired[drugname]) \n",
    "    df_expired[drugname] = np.where(df_expired[drugname] == 'Steady', 1, df_expired[drugname])                      "
   ]
  },
  {
   "cell_type": "code",
   "execution_count": 15,
   "id": "e16750b5",
   "metadata": {},
   "outputs": [],
   "source": [
    "# Change column values in Non-Expired for features containing DM meds.  If they are on the medication then value gets changed to 1. If they are not on the med it gets changed to 0.\n",
    "meds =['metformin','repaglinide','nateglinide','chlorpropamide','glimepiride','acetohexamide','glipizide','glyburide','tolbutamide','pioglitazone','rosiglitazone','acarbose','miglitol','troglitazone','tolazamide','examide','citoglipton','insulin','glyburide-metformin','glipizide-metformin','glimepiride-pioglitazone','metformin-rosiglitazone','metformin-pioglitazone']\n",
    "for i in meds :\n",
    "    drugname = i\n",
    "    drugname= ''+drugname+''\n",
    "    df_nonexpired[drugname] = np.where(df_nonexpired[drugname] == 'No', 0, df_nonexpired[drugname])\n",
    "    df_nonexpired[drugname] = np.where(df_nonexpired[drugname] == 'Up', 1, df_nonexpired[drugname])           \n",
    "    df_nonexpired[drugname] = np.where(df_nonexpired[drugname] == 'Down', 1, df_nonexpired[drugname]) \n",
    "    df_nonexpired[drugname] = np.where(df_nonexpired[drugname] == 'Steady', 1, df_nonexpired[drugname])                      "
   ]
  },
  {
   "cell_type": "code",
   "execution_count": 16,
   "id": "4c464812",
   "metadata": {},
   "outputs": [
    {
     "data": {
      "text/html": [
       "<div>\n",
       "<style scoped>\n",
       "    .dataframe tbody tr th:only-of-type {\n",
       "        vertical-align: middle;\n",
       "    }\n",
       "\n",
       "    .dataframe tbody tr th {\n",
       "        vertical-align: top;\n",
       "    }\n",
       "\n",
       "    .dataframe thead th {\n",
       "        text-align: right;\n",
       "    }\n",
       "</style>\n",
       "<table border=\"1\" class=\"dataframe\">\n",
       "  <thead>\n",
       "    <tr style=\"text-align: right;\">\n",
       "      <th></th>\n",
       "      <th>metformin</th>\n",
       "      <th>repaglinide</th>\n",
       "      <th>nateglinide</th>\n",
       "      <th>chlorpropamide</th>\n",
       "      <th>glimepiride</th>\n",
       "      <th>acetohexamide</th>\n",
       "      <th>glipizide</th>\n",
       "      <th>glyburide</th>\n",
       "      <th>tolbutamide</th>\n",
       "      <th>pioglitazone</th>\n",
       "      <th>...</th>\n",
       "      <th>troglitazone</th>\n",
       "      <th>tolazamide</th>\n",
       "      <th>examide</th>\n",
       "      <th>citoglipton</th>\n",
       "      <th>insulin</th>\n",
       "      <th>glyburide-metformin</th>\n",
       "      <th>glipizide-metformin</th>\n",
       "      <th>glimepiride-pioglitazone</th>\n",
       "      <th>metformin-rosiglitazone</th>\n",
       "      <th>metformin-pioglitazone</th>\n",
       "    </tr>\n",
       "  </thead>\n",
       "  <tbody>\n",
       "    <tr>\n",
       "      <th>0</th>\n",
       "      <td>0</td>\n",
       "      <td>0</td>\n",
       "      <td>0</td>\n",
       "      <td>0</td>\n",
       "      <td>0</td>\n",
       "      <td>0</td>\n",
       "      <td>0</td>\n",
       "      <td>0</td>\n",
       "      <td>0</td>\n",
       "      <td>0</td>\n",
       "      <td>...</td>\n",
       "      <td>0</td>\n",
       "      <td>0</td>\n",
       "      <td>0</td>\n",
       "      <td>0</td>\n",
       "      <td>0</td>\n",
       "      <td>0</td>\n",
       "      <td>0</td>\n",
       "      <td>0</td>\n",
       "      <td>0</td>\n",
       "      <td>0</td>\n",
       "    </tr>\n",
       "    <tr>\n",
       "      <th>1</th>\n",
       "      <td>0</td>\n",
       "      <td>0</td>\n",
       "      <td>0</td>\n",
       "      <td>0</td>\n",
       "      <td>0</td>\n",
       "      <td>0</td>\n",
       "      <td>0</td>\n",
       "      <td>0</td>\n",
       "      <td>0</td>\n",
       "      <td>0</td>\n",
       "      <td>...</td>\n",
       "      <td>0</td>\n",
       "      <td>0</td>\n",
       "      <td>0</td>\n",
       "      <td>0</td>\n",
       "      <td>1</td>\n",
       "      <td>0</td>\n",
       "      <td>0</td>\n",
       "      <td>0</td>\n",
       "      <td>0</td>\n",
       "      <td>0</td>\n",
       "    </tr>\n",
       "    <tr>\n",
       "      <th>2</th>\n",
       "      <td>0</td>\n",
       "      <td>0</td>\n",
       "      <td>0</td>\n",
       "      <td>0</td>\n",
       "      <td>0</td>\n",
       "      <td>0</td>\n",
       "      <td>0</td>\n",
       "      <td>0</td>\n",
       "      <td>0</td>\n",
       "      <td>0</td>\n",
       "      <td>...</td>\n",
       "      <td>0</td>\n",
       "      <td>0</td>\n",
       "      <td>0</td>\n",
       "      <td>0</td>\n",
       "      <td>0</td>\n",
       "      <td>0</td>\n",
       "      <td>0</td>\n",
       "      <td>0</td>\n",
       "      <td>0</td>\n",
       "      <td>0</td>\n",
       "    </tr>\n",
       "    <tr>\n",
       "      <th>3</th>\n",
       "      <td>0</td>\n",
       "      <td>0</td>\n",
       "      <td>0</td>\n",
       "      <td>0</td>\n",
       "      <td>0</td>\n",
       "      <td>0</td>\n",
       "      <td>0</td>\n",
       "      <td>0</td>\n",
       "      <td>0</td>\n",
       "      <td>0</td>\n",
       "      <td>...</td>\n",
       "      <td>0</td>\n",
       "      <td>0</td>\n",
       "      <td>0</td>\n",
       "      <td>0</td>\n",
       "      <td>1</td>\n",
       "      <td>0</td>\n",
       "      <td>0</td>\n",
       "      <td>0</td>\n",
       "      <td>0</td>\n",
       "      <td>0</td>\n",
       "    </tr>\n",
       "    <tr>\n",
       "      <th>4</th>\n",
       "      <td>0</td>\n",
       "      <td>0</td>\n",
       "      <td>0</td>\n",
       "      <td>0</td>\n",
       "      <td>0</td>\n",
       "      <td>0</td>\n",
       "      <td>0</td>\n",
       "      <td>0</td>\n",
       "      <td>0</td>\n",
       "      <td>0</td>\n",
       "      <td>...</td>\n",
       "      <td>0</td>\n",
       "      <td>0</td>\n",
       "      <td>0</td>\n",
       "      <td>0</td>\n",
       "      <td>1</td>\n",
       "      <td>0</td>\n",
       "      <td>0</td>\n",
       "      <td>0</td>\n",
       "      <td>0</td>\n",
       "      <td>0</td>\n",
       "    </tr>\n",
       "  </tbody>\n",
       "</table>\n",
       "<p>5 rows × 23 columns</p>\n",
       "</div>"
      ],
      "text/plain": [
       "  metformin repaglinide nateglinide chlorpropamide glimepiride acetohexamide  \\\n",
       "0         0           0           0              0           0             0   \n",
       "1         0           0           0              0           0             0   \n",
       "2         0           0           0              0           0             0   \n",
       "3         0           0           0              0           0             0   \n",
       "4         0           0           0              0           0             0   \n",
       "\n",
       "  glipizide glyburide tolbutamide pioglitazone  ... troglitazone tolazamide  \\\n",
       "0         0         0           0            0  ...            0          0   \n",
       "1         0         0           0            0  ...            0          0   \n",
       "2         0         0           0            0  ...            0          0   \n",
       "3         0         0           0            0  ...            0          0   \n",
       "4         0         0           0            0  ...            0          0   \n",
       "\n",
       "  examide citoglipton insulin glyburide-metformin glipizide-metformin  \\\n",
       "0       0           0       0                   0                   0   \n",
       "1       0           0       1                   0                   0   \n",
       "2       0           0       0                   0                   0   \n",
       "3       0           0       1                   0                   0   \n",
       "4       0           0       1                   0                   0   \n",
       "\n",
       "  glimepiride-pioglitazone metformin-rosiglitazone metformin-pioglitazone  \n",
       "0                        0                       0                      0  \n",
       "1                        0                       0                      0  \n",
       "2                        0                       0                      0  \n",
       "3                        0                       0                      0  \n",
       "4                        0                       0                      0  \n",
       "\n",
       "[5 rows x 23 columns]"
      ]
     },
     "execution_count": 16,
     "metadata": {},
     "output_type": "execute_result"
    }
   ],
   "source": [
    "df_nonexpired[meds].head()"
   ]
  },
  {
   "cell_type": "code",
   "execution_count": 17,
   "id": "a70d4b0d",
   "metadata": {},
   "outputs": [
    {
     "data": {
      "text/plain": [
       "array(['[80-90)', '[40-50)', '[70-80)', '[90-100)', '[50-60)', '[60-70)',\n",
       "       '[30-40)', '[20-30)', '[10-20)', '[0-10)'], dtype=object)"
      ]
     },
     "execution_count": 17,
     "metadata": {},
     "output_type": "execute_result"
    }
   ],
   "source": [
    "df_expired['age'].unique()"
   ]
  },
  {
   "cell_type": "markdown",
   "id": "11875a7c",
   "metadata": {},
   "source": [
    "Encode Age column to the following values:\n",
    "[0-10), 0, \n",
    "[10-20),1, \n",
    "[20-30), 2,\n",
    "[30-40),3, \n",
    "[40-50),4, \n",
    "[50-60), 5, \n",
    "[60-70), 6, \n",
    "[70-80), 7  \n",
    "[80-90), 8\n",
    "[90-100), 9"
   ]
  },
  {
   "cell_type": "code",
   "execution_count": 18,
   "id": "55e5a7fe",
   "metadata": {},
   "outputs": [],
   "source": [
    "AgeList = []\n",
    "AgeList = df_expired['age'].unique().tolist()\n",
    "AgeList.sort()\n",
    "\n"
   ]
  },
  {
   "cell_type": "code",
   "execution_count": 19,
   "id": "2b64d3c5",
   "metadata": {},
   "outputs": [],
   "source": [
    "#Encode Age feature in Expired Dataset.\n",
    "for i in AgeList :\n",
    "    AgeCat = i\n",
    "    AgeCat = ''+AgeCat+''\n",
    "    x = AgeList.index(i)\n",
    "    df_expired['age'] = np.where(df_expired['age'] == AgeCat, x, df_expired['age'])\n",
    "     \n"
   ]
  },
  {
   "cell_type": "code",
   "execution_count": 20,
   "id": "2f607801",
   "metadata": {},
   "outputs": [
    {
     "name": "stdout",
     "output_type": "stream",
     "text": [
      "[8 4 7 9 5 6 3 2 1 0]\n"
     ]
    }
   ],
   "source": [
    "print(df_expired['age'].unique())"
   ]
  },
  {
   "cell_type": "code",
   "execution_count": 21,
   "id": "b7666bb0",
   "metadata": {},
   "outputs": [
    {
     "data": {
      "text/plain": [
       "8    763\n",
       "7    736\n",
       "6    423\n",
       "9    204\n",
       "5    196\n",
       "4     78\n",
       "3     11\n",
       "2      8\n",
       "1      1\n",
       "0      1\n",
       "Name: age, dtype: int64"
      ]
     },
     "execution_count": 21,
     "metadata": {},
     "output_type": "execute_result"
    }
   ],
   "source": [
    "df_expired['age'].value_counts()"
   ]
  },
  {
   "cell_type": "code",
   "execution_count": 22,
   "id": "f3abd1fd",
   "metadata": {},
   "outputs": [],
   "source": [
    "#Encode Age feature in Non-Expired Dataset.\n",
    "for i in AgeList :\n",
    "    AgeCat = i\n",
    "    AgeCat = ''+AgeCat+''\n",
    "    x = AgeList.index(i)\n",
    "    df_nonexpired['age'] = np.where(df_nonexpired['age'] == AgeCat, x, df_nonexpired['age'])\n",
    " "
   ]
  },
  {
   "cell_type": "code",
   "execution_count": 23,
   "id": "eda7fe21",
   "metadata": {},
   "outputs": [
    {
     "data": {
      "text/plain": [
       "7    25332\n",
       "6    22060\n",
       "5    17060\n",
       "8    16434\n",
       "4     9607\n",
       "3     3764\n",
       "9     2589\n",
       "2     1649\n",
       "1      690\n",
       "0      160\n",
       "Name: age, dtype: int64"
      ]
     },
     "execution_count": 23,
     "metadata": {},
     "output_type": "execute_result"
    }
   ],
   "source": [
    "df_nonexpired['age'].value_counts()"
   ]
  },
  {
   "cell_type": "code",
   "execution_count": 24,
   "id": "ab0bc5c4",
   "metadata": {},
   "outputs": [],
   "source": [
    "#Drop Features that are not relevant. \"number of outpatient vists\" was kept even though there was no statistical difference between the two.\n",
    "df_expired.drop(columns=[\"race\", \"gender\",'weight','payer_code','medical_specialty','max_glu_serum','A1Cresult','readmitted'], inplace=True)"
   ]
  },
  {
   "cell_type": "code",
   "execution_count": 25,
   "id": "f9e1bdbc",
   "metadata": {},
   "outputs": [],
   "source": [
    "#Do the same to non-expired group. \n",
    "df_nonexpired.drop(columns=[\"race\", \"gender\",'weight','payer_code','medical_specialty','max_glu_serum','A1Cresult','readmitted'], inplace=True)"
   ]
  },
  {
   "cell_type": "code",
   "execution_count": 26,
   "id": "6a7a0ce1",
   "metadata": {
    "scrolled": true
   },
   "outputs": [
    {
     "data": {
      "text/plain": [
       "Index(['age', 'admission_type_id', 'discharge_disposition_id',\n",
       "       'admission_source_id', 'time_in_hospital', 'num_lab_procedures',\n",
       "       'num_procedures', 'num_medications', 'number_outpatient',\n",
       "       'number_emergency', 'number_inpatient', 'diag_1', 'diag_2', 'diag_3',\n",
       "       'number_diagnoses', 'metformin', 'repaglinide', 'nateglinide',\n",
       "       'chlorpropamide', 'glimepiride', 'acetohexamide', 'glipizide',\n",
       "       'glyburide', 'tolbutamide', 'pioglitazone', 'rosiglitazone', 'acarbose',\n",
       "       'miglitol', 'troglitazone', 'tolazamide', 'examide', 'citoglipton',\n",
       "       'insulin', 'glyburide-metformin', 'glipizide-metformin',\n",
       "       'glimepiride-pioglitazone', 'metformin-rosiglitazone',\n",
       "       'metformin-pioglitazone', 'change', 'diabetesMed',\n",
       "       'discharge_disposition_description'],\n",
       "      dtype='object')"
      ]
     },
     "execution_count": 26,
     "metadata": {},
     "output_type": "execute_result"
    }
   ],
   "source": [
    "df_expired.columns"
   ]
  },
  {
   "cell_type": "code",
   "execution_count": 27,
   "id": "f77eda7a",
   "metadata": {},
   "outputs": [
    {
     "data": {
      "text/plain": [
       "Index(['age', 'admission_type_id', 'discharge_disposition_id',\n",
       "       'admission_source_id', 'time_in_hospital', 'num_lab_procedures',\n",
       "       'num_procedures', 'num_medications', 'number_outpatient',\n",
       "       'number_emergency', 'number_inpatient', 'diag_1', 'diag_2', 'diag_3',\n",
       "       'number_diagnoses', 'metformin', 'repaglinide', 'nateglinide',\n",
       "       'chlorpropamide', 'glimepiride', 'acetohexamide', 'glipizide',\n",
       "       'glyburide', 'tolbutamide', 'pioglitazone', 'rosiglitazone', 'acarbose',\n",
       "       'miglitol', 'troglitazone', 'tolazamide', 'examide', 'citoglipton',\n",
       "       'insulin', 'glyburide-metformin', 'glipizide-metformin',\n",
       "       'glimepiride-pioglitazone', 'metformin-rosiglitazone',\n",
       "       'metformin-pioglitazone', 'change', 'diabetesMed',\n",
       "       'discharge_disposition_description'],\n",
       "      dtype='object')"
      ]
     },
     "execution_count": 27,
     "metadata": {},
     "output_type": "execute_result"
    }
   ],
   "source": [
    "df_nonexpired.columns"
   ]
  },
  {
   "cell_type": "code",
   "execution_count": 28,
   "id": "dbec2ec0",
   "metadata": {},
   "outputs": [],
   "source": [
    "#Create encoded variables for ICD codes\n",
    "diag_1 = pd.get_dummies(df_expired['diag_1'], prefix='ICD1')\n",
    "diag_2 = pd.get_dummies(df_expired['diag_2'],prefix='ICD2')\n",
    "diag_3 = pd.get_dummies(df_expired['diag_3'],prefix='ICD3')"
   ]
  },
  {
   "cell_type": "code",
   "execution_count": 29,
   "id": "0ae454b9",
   "metadata": {},
   "outputs": [],
   "source": [
    "#Concat tables \n",
    "df_expired_concat = pd.concat([df_expired,diag_1, diag_2, diag_3], axis=1)"
   ]
  },
  {
   "cell_type": "code",
   "execution_count": 30,
   "id": "a0713393",
   "metadata": {},
   "outputs": [],
   "source": [
    "#Create encoded variables for Non-Expired ICD codes\n",
    "diag_1 = pd.get_dummies(df_nonexpired['diag_1'], prefix='ICD1')\n",
    "diag_2 = pd.get_dummies(df_nonexpired['diag_2'],prefix='ICD2')\n",
    "diag_3 = pd.get_dummies(df_nonexpired['diag_3'],prefix='ICD3')"
   ]
  },
  {
   "cell_type": "code",
   "execution_count": 31,
   "id": "573cc8ae",
   "metadata": {},
   "outputs": [],
   "source": [
    "#Concat non_expired tables \n",
    "df_nonexpired_concat = pd.concat([df_nonexpired,diag_1, diag_2, diag_3], axis=1)"
   ]
  },
  {
   "cell_type": "code",
   "execution_count": 32,
   "id": "13716554",
   "metadata": {},
   "outputs": [],
   "source": [
    "df_nonexpired_concat = df_nonexpired_concat.drop(columns=['diag_1','diag_2','diag_3','discharge_disposition_description'])\n",
    "df_expired_concat = df_expired_concat.drop(columns=['diag_1','diag_2','diag_3','discharge_disposition_description'])\n"
   ]
  },
  {
   "cell_type": "code",
   "execution_count": 33,
   "id": "fa9ff935",
   "metadata": {},
   "outputs": [],
   "source": [
    "vertical_concat = pd.concat([df_expired_concat, df_nonexpired_concat], axis=0, ignore_index=True)\n"
   ]
  },
  {
   "cell_type": "code",
   "execution_count": 34,
   "id": "c9ff468e",
   "metadata": {},
   "outputs": [],
   "source": [
    "df = vertical_concat.fillna(0)"
   ]
  },
  {
   "cell_type": "code",
   "execution_count": 35,
   "id": "aaee558c",
   "metadata": {},
   "outputs": [],
   "source": [
    "#Define the y variable as the discharge_disposition_id. 1=Expired,0=Non-expired\n",
    "y = df['discharge_disposition_id']\n",
    "X = df.drop('discharge_disposition_id', axis=1)"
   ]
  },
  {
   "cell_type": "code",
   "execution_count": 36,
   "id": "52641953",
   "metadata": {},
   "outputs": [],
   "source": [
    "#Create a 70/30 train and test split.\n",
    "X_train, X_test, y_train, y_test = train_test_split(X,y, test_size=0.3, random_state=42)"
   ]
  },
  {
   "cell_type": "code",
   "execution_count": 37,
   "id": "56e1f115",
   "metadata": {},
   "outputs": [],
   "source": [
    "# Making a Scaler object\n",
    "scaler = StandardScaler()"
   ]
  },
  {
   "cell_type": "code",
   "execution_count": 38,
   "id": "c027b0f9",
   "metadata": {},
   "outputs": [],
   "source": [
    "# Fitting data to the scaler object\n",
    "X_train_scaled = scaler.fit_transform(X_train)\n"
   ]
  },
  {
   "cell_type": "code",
   "execution_count": 39,
   "id": "d454bfdb",
   "metadata": {},
   "outputs": [
    {
     "data": {
      "text/plain": [
       "(71236, 2289)"
      ]
     },
     "execution_count": 39,
     "metadata": {},
     "output_type": "execute_result"
    }
   ],
   "source": [
    "X_train_scaled.shape"
   ]
  },
  {
   "cell_type": "code",
   "execution_count": 40,
   "id": "41bcfe46",
   "metadata": {},
   "outputs": [],
   "source": [
    "#Write dataframe to files. \n",
    "df.to_csv('df_modeling.csv', index=True)\n",
    "df_nonexpired_concat.to_csv('feature1_nonexpired.csv', index=True)\n",
    "df_expired_concat.to_csv('feature1_expired.csv', index=True)\n"
   ]
  }
 ],
 "metadata": {
  "kernelspec": {
   "display_name": "Python 3 (ipykernel)",
   "language": "python",
   "name": "python3"
  },
  "language_info": {
   "codemirror_mode": {
    "name": "ipython",
    "version": 3
   },
   "file_extension": ".py",
   "mimetype": "text/x-python",
   "name": "python",
   "nbconvert_exporter": "python",
   "pygments_lexer": "ipython3",
   "version": "3.9.7"
  }
 },
 "nbformat": 4,
 "nbformat_minor": 5
}
